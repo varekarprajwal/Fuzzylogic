{
  "cells": [
    {
      "cell_type": "markdown",
      "metadata": {
        "id": "view-in-github",
        "colab_type": "text"
      },
      "source": [
        "<a href=\"https://colab.research.google.com/github/varekarprajwal/Fuzzylogic/blob/main/Neural_Network_2.ipynb\" target=\"_parent\"><img src=\"https://colab.research.google.com/assets/colab-badge.svg\" alt=\"Open In Colab\"/></a>"
      ]
    },
    {
      "cell_type": "code",
      "execution_count": 1,
      "id": "cc62dcf0-6c8e-464f-9953-597d1d12aef7",
      "metadata": {
        "tags": [],
        "id": "cc62dcf0-6c8e-464f-9953-597d1d12aef7"
      },
      "outputs": [],
      "source": [
        "import numpy as np\n",
        "import matplotlib.pyplot as plt"
      ]
    },
    {
      "cell_type": "code",
      "execution_count": 2,
      "id": "cc856cbf",
      "metadata": {
        "tags": [],
        "id": "cc856cbf"
      },
      "outputs": [],
      "source": [
        "class Adaline:\n",
        "    def __init__(self, learning_rate=0.01, num_features=1):\n",
        "        self.learning_rate = learning_rate\n",
        "        self.weights = np.random.randn(num_features) * 0.01  # Small random weights\n",
        "        self.bias = 0.0\n",
        "        self.errors = []  # Store MSE for each epoch\n",
        "\n",
        "    def net_input(self, X):\n",
        "        return np.dot(X, self.weights) + self.bias\n",
        "\n",
        "    def predict(self, X):\n",
        "        return self.net_input(X)  # Linear output for Adaline\n",
        "\n",
        "    def train(self, X, y, epochs=50):\n",
        "        n_samples = X.shape[0]\n",
        "\n",
        "        for epoch in range(epochs):\n",
        "            output = self.net_input(X)\n",
        "            errors = y - output\n",
        "            mse = (errors ** 2).mean()  # Mean Squared Error\n",
        "            self.errors.append(mse)\n",
        "\n",
        "            # Weight and bias update (batch gradient descent)\n",
        "            self.weights += self.learning_rate * X.T.dot(errors) / n_samples\n",
        "            self.bias += self.learning_rate * errors.sum() / n_samples\n",
        "\n",
        "            # Print debug info\n",
        "            print(f\"Epoch {epoch+1}/{epochs} - MSE: {mse:.4f}\")\n",
        "\n",
        "    def classify(self, X, threshold=0.0):\n",
        "        return np.where(self.net_input(X) >= threshold, 1, -1)"
      ]
    },
    {
      "cell_type": "code",
      "execution_count": 3,
      "id": "bea931bd",
      "metadata": {
        "tags": [],
        "id": "bea931bd"
      },
      "outputs": [],
      "source": [
        "# Example usage\n",
        "# Assuming you have your training data X and y\n",
        "# Question 1\n",
        "X = np.array([\n",
        "    [ 1.0,-1.0,-1.0,-1.0,   1.0, 1.0, 1.0, 1.0,   1.0,-1.0,-1.0,-1.0,  -1.0,-1.0,-1.0,-1.0],\n",
        "    [ 1.0, 1.0, 1.0, 1.0,   1.0,-1.0, 1.0, 1.0,   1.0,-1.0, 1.0, 1.0,  -1.0,-1.0,-1.0,-1.0],\n",
        "    [ 1.0, 1.0, 1.0, 1.0,   1.0, 1.0,-1.0,-1.0,   1.0, 1.0,-1.0,-1.0,  -1.0,-1.0,-1.0,-1.0],\n",
        "    [-1.0,-1.0,-1.0,-1.0,   1.0,-1.0,-1.0,-1.0,   1.0, 1.0, 1.0, 1.0,   1.0,-1.0,-1.0,-1.0],\n",
        "    [-1.0,-1.0,-1.0,-1.0,   1.0,-1.0,-1.0,-1.0,   1.0,-1.0, 1.0, 1.0,   1.0,-1.0, 1.0, 1.0]\n",
        "])\n",
        "y = np.array([60, 0, -60, 60, 0])"
      ]
    },
    {
      "cell_type": "code",
      "execution_count": 4,
      "id": "f154f90e-b669-4789-841e-a32254ce919a",
      "metadata": {
        "tags": [],
        "id": "f154f90e-b669-4789-841e-a32254ce919a",
        "outputId": "8c61cdce-1a17-4933-c585-7d66c4101bdf",
        "colab": {
          "base_uri": "https://localhost:8080/"
        }
      },
      "outputs": [
        {
          "output_type": "stream",
          "name": "stdout",
          "text": [
            "Epoch 1/100 - MSE: 2159.7759\n",
            "Epoch 2/100 - MSE: 2043.9975\n",
            "Epoch 3/100 - MSE: 1937.0586\n",
            "Epoch 4/100 - MSE: 1838.1408\n",
            "Epoch 5/100 - MSE: 1746.5093\n",
            "Epoch 6/100 - MSE: 1661.5033\n",
            "Epoch 7/100 - MSE: 1582.5284\n",
            "Epoch 8/100 - MSE: 1509.0498\n",
            "Epoch 9/100 - MSE: 1440.5855\n",
            "Epoch 10/100 - MSE: 1376.7013\n",
            "Epoch 11/100 - MSE: 1317.0057\n",
            "Epoch 12/100 - MSE: 1261.1450\n",
            "Epoch 13/100 - MSE: 1208.7998\n",
            "Epoch 14/100 - MSE: 1159.6816\n",
            "Epoch 15/100 - MSE: 1113.5291\n",
            "Epoch 16/100 - MSE: 1070.1056\n",
            "Epoch 17/100 - MSE: 1029.1968\n",
            "Epoch 18/100 - MSE: 990.6081\n",
            "Epoch 19/100 - MSE: 954.1628\n",
            "Epoch 20/100 - MSE: 919.7003\n",
            "Epoch 21/100 - MSE: 887.0745\n",
            "Epoch 22/100 - MSE: 856.1523\n",
            "Epoch 23/100 - MSE: 826.8121\n",
            "Epoch 24/100 - MSE: 798.9434\n",
            "Epoch 25/100 - MSE: 772.4447\n",
            "Epoch 26/100 - MSE: 747.2233\n",
            "Epoch 27/100 - MSE: 723.1946\n",
            "Epoch 28/100 - MSE: 700.2805\n",
            "Epoch 29/100 - MSE: 678.4096\n",
            "Epoch 30/100 - MSE: 657.5163\n",
            "Epoch 31/100 - MSE: 637.5400\n",
            "Epoch 32/100 - MSE: 618.4252\n",
            "Epoch 33/100 - MSE: 600.1203\n",
            "Epoch 34/100 - MSE: 582.5780\n",
            "Epoch 35/100 - MSE: 565.7542\n",
            "Epoch 36/100 - MSE: 549.6084\n",
            "Epoch 37/100 - MSE: 534.1029\n",
            "Epoch 38/100 - MSE: 519.2027\n",
            "Epoch 39/100 - MSE: 504.8752\n",
            "Epoch 40/100 - MSE: 491.0902\n",
            "Epoch 41/100 - MSE: 477.8196\n",
            "Epoch 42/100 - MSE: 465.0370\n",
            "Epoch 43/100 - MSE: 452.7179\n",
            "Epoch 44/100 - MSE: 440.8395\n",
            "Epoch 45/100 - MSE: 429.3802\n",
            "Epoch 46/100 - MSE: 418.3199\n",
            "Epoch 47/100 - MSE: 407.6398\n",
            "Epoch 48/100 - MSE: 397.3221\n",
            "Epoch 49/100 - MSE: 387.3504\n",
            "Epoch 50/100 - MSE: 377.7088\n",
            "Epoch 51/100 - MSE: 368.3828\n",
            "Epoch 52/100 - MSE: 359.3584\n",
            "Epoch 53/100 - MSE: 350.6226\n",
            "Epoch 54/100 - MSE: 342.1629\n",
            "Epoch 55/100 - MSE: 333.9678\n",
            "Epoch 56/100 - MSE: 326.0261\n",
            "Epoch 57/100 - MSE: 318.3275\n",
            "Epoch 58/100 - MSE: 310.8621\n",
            "Epoch 59/100 - MSE: 303.6204\n",
            "Epoch 60/100 - MSE: 296.5936\n",
            "Epoch 61/100 - MSE: 289.7733\n",
            "Epoch 62/100 - MSE: 283.1514\n",
            "Epoch 63/100 - MSE: 276.7203\n",
            "Epoch 64/100 - MSE: 270.4728\n",
            "Epoch 65/100 - MSE: 264.4020\n",
            "Epoch 66/100 - MSE: 258.5012\n",
            "Epoch 67/100 - MSE: 252.7644\n",
            "Epoch 68/100 - MSE: 247.1855\n",
            "Epoch 69/100 - MSE: 241.7588\n",
            "Epoch 70/100 - MSE: 236.4789\n",
            "Epoch 71/100 - MSE: 231.3406\n",
            "Epoch 72/100 - MSE: 226.3390\n",
            "Epoch 73/100 - MSE: 221.4693\n",
            "Epoch 74/100 - MSE: 216.7271\n",
            "Epoch 75/100 - MSE: 212.1080\n",
            "Epoch 76/100 - MSE: 207.6078\n",
            "Epoch 77/100 - MSE: 203.2227\n",
            "Epoch 78/100 - MSE: 198.9488\n",
            "Epoch 79/100 - MSE: 194.7825\n",
            "Epoch 80/100 - MSE: 190.7204\n",
            "Epoch 81/100 - MSE: 186.7590\n",
            "Epoch 82/100 - MSE: 182.8951\n",
            "Epoch 83/100 - MSE: 179.1258\n",
            "Epoch 84/100 - MSE: 175.4481\n",
            "Epoch 85/100 - MSE: 171.8590\n",
            "Epoch 86/100 - MSE: 168.3560\n",
            "Epoch 87/100 - MSE: 164.9363\n",
            "Epoch 88/100 - MSE: 161.5976\n",
            "Epoch 89/100 - MSE: 158.3373\n",
            "Epoch 90/100 - MSE: 155.1531\n",
            "Epoch 91/100 - MSE: 152.0428\n",
            "Epoch 92/100 - MSE: 149.0043\n",
            "Epoch 93/100 - MSE: 146.0355\n",
            "Epoch 94/100 - MSE: 143.1343\n",
            "Epoch 95/100 - MSE: 140.2989\n",
            "Epoch 96/100 - MSE: 137.5274\n",
            "Epoch 97/100 - MSE: 134.8181\n",
            "Epoch 98/100 - MSE: 132.1691\n",
            "Epoch 99/100 - MSE: 129.5789\n",
            "Epoch 100/100 - MSE: 127.0458\n"
          ]
        }
      ],
      "source": [
        "model = Adaline(learning_rate=0.01, num_features=X.shape[1])\n",
        "model.train(X, y, epochs=100)"
      ]
    },
    {
      "cell_type": "code",
      "execution_count": 5,
      "id": "db0170e7",
      "metadata": {
        "id": "db0170e7",
        "outputId": "2df9735d-f172-4966-9a78-9a6bac4e6c30",
        "colab": {
          "base_uri": "https://localhost:8080/",
          "height": 472
        }
      },
      "outputs": [
        {
          "output_type": "display_data",
          "data": {
            "text/plain": [
              "<Figure size 640x480 with 1 Axes>"
            ],
            "image/png": "[encoded data removed]"
          },
          "metadata": {}
        }
      ],
      "source": [
        "# Plot MSE vs Epochs\n",
        "plt.plot(range(1, len(model.errors) + 1), model.errors)\n",
        "plt.xlabel('Epoch')\n",
        "plt.ylabel('Mean Squared Error')\n",
        "plt.title('Adaline Training - MSE over Epochs')\n",
        "plt.show()"
      ]
    }
  ],
  "metadata": {
    "kernelspec": {
      "display_name": "Python 3 (ipykernel)",
      "language": "python",
      "name": "python3"
    },
    "language_info": {
      "codemirror_mode": {
        "name": "ipython",
        "version": 3
      },
      "file_extension": ".py",
      "mimetype": "text/x-python",
      "name": "python",
      "nbconvert_exporter": "python",
      "pygments_lexer": "ipython3",
      "version": "3.11.5"
    },
    "toc-showmarkdowntxt": true,
    "colab": {
      "provenance": [],
      "include_colab_link": true
    }
  },
  "nbformat": 4,
  "nbformat_minor": 5
}