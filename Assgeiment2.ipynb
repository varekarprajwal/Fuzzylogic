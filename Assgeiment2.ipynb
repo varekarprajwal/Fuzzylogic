{
 "cells": [
  {
   "cell_type": "code",
   "execution_count": 343,
   "id": "cc62dcf0-6c8e-464f-9953-597d1d12aef7",
   "metadata": {
    "tags": []
   },
   "outputs": [],
   "source": [
    "import numpy as np"
   ]
  },
  {
   "cell_type": "code",
   "execution_count": 549,
   "id": "cc856cbf",
   "metadata": {
    "tags": []
   },
   "outputs": [],
   "source": [
    "class Adaline:\n",
    "    def __init__(self, learning_rate=0.01, num_features=1):\n",
    "        self.learning_rate = learning_rate\n",
    "        self.weights = np.random.rand(num_features) # +1 for bias term\n",
    "        self.bias = np.random.rand(1)\n",
    "        self.Error=[]\n",
    "\n",
    "\n",
    "    def predict(self, X):\n",
    "        # Add bias term to input\n",
    "        net_input = sum(self.weights*X) + self.bias\n",
    "        # Apply activation function (linear in this case)\n",
    "        return net_input\n",
    "\n",
    "    def train(self, X, y, epochs=10):\n",
    "        # Add bias term to input\n",
    "\n",
    "        X_with_bias = np.c_[X, np.full(X.shape[0],self.bias)]\n",
    "\n",
    "        # Check if number of samples in X and y match\n",
    "        if X.shape[0] != y.shape[0]:\n",
    "            raise ValueError(\"Number of samples in X and y must be equal.\")\n",
    "\n",
    "        for epoch in range(epochs):\n",
    "\n",
    "          # Loop through each sample\n",
    "            for i in range(X.shape[0]):\n",
    "            # Calculate predicted output\n",
    "                output = self.predict(X[i])\n",
    "                \n",
    "            # Calculate error\n",
    "                error = y[i] - output\n",
    "            # Update weights using LMS rule\n",
    "                self.weights += 2*self.learning_rate * error * X[i]\n",
    "                self.bias += 2*self.learning_rate * error  # update bias separately\n",
    "            self.Error.append(error)\n",
    "            \n",
    "\n",
    "    def Predction (self, X):\n",
    "        for i in range(X.shape[0]):\n",
    "            net_input = sum(self.weights*X[i])\n",
    "        out = net_input+self.bias\n",
    "        return out\n",
    "        "
   ]
  },
  {
   "cell_type": "code",
   "execution_count": 550,
   "id": "bea931bd",
   "metadata": {
    "tags": []
   },
   "outputs": [],
   "source": [
    "# Example usage\n",
    "# Assuming you have your training data X and y\n",
    "# Question 1\n",
    "X = np.array([[ 1.0,-1.0,-1.0,-1.0,   1.0, 1.0, 1.0, 1.0,   1.0,-1.0,-1.0,-1.0,  -1.0,-1.0,-1.0,-1.0],\n",
    "              [ 1.0, 1.0, 1.0, 1.0,   1.0,-1.0, 1.0, 1.0,   1.0,-1.0, 1.0, 1.0,  -1.0,-1.0,-1.0,-1.0],\n",
    "              [ 1.0, 1.0, 1.0, 1.0,   1.0, 1.0,-1.0,-1.0,   1.0, 1.0,-1.0,-1.0,  -1.0,-1.0,-1.0,-1.0],\n",
    "              [-1.0,-1.0,-1.0,-1.0,   1.0,-1.0,-1.0,-1.0,   1.0, 1.0, 1.0, 1.0,   1.0,-1.0,-1.0,-1.0],\n",
    "              [-1.0,-1.0,-1.0,-1.0,   1.0,-1.0,-1.0,-1.0,   1.0,-1.0, 1.0, 1.0,   1.0,-1.0, 1.0, 1.0]])\n",
    "y = np.array([60, 0, -60, 60, 0])\n"
   ]
  },
  {
   "cell_type": "code",
   "execution_count": 551,
   "id": "f154f90e-b669-4789-841e-a32254ce919a",
   "metadata": {
    "tags": []
   },
   "outputs": [],
   "source": [
    "model = Adaline(learning_rate=0.01,num_features=16)\n",
    "model.train(X, y, epochs=20)"
   ]
  },
  {
   "cell_type": "code",
   "execution_count": 552,
   "id": "2e8f6933",
   "metadata": {
    "tags": []
   },
   "outputs": [
    {
     "name": "stdout",
     "output_type": "stream",
     "text": [
      "[59.63723578]\n"
     ]
    }
   ],
   "source": [
    "# Make predictions on new data\n",
    "new_data = np.array([[1,-1,-1,-1,1,1,1,1,1,-1,-1,-1,-1,-1,-1,-1]])\n",
    "predictions = model.Predction(new_data)\n",
    "print(predictions)"
   ]
  },
  {
   "cell_type": "code",
   "execution_count": null,
   "id": "72e96bf2-5f22-4e87-a082-29b8c5fc121b",
   "metadata": {},
   "outputs": [],
   "source": []
  },
  {
   "cell_type": "code",
   "execution_count": null,
   "id": "345fb6cf-7b1f-4421-b6ee-ed16c7f446e1",
   "metadata": {},
   "outputs": [],
   "source": []
  }
 ],
 "metadata": {
  "kernelspec": {
   "display_name": "Python 3 (ipykernel)",
   "language": "python",
   "name": "python3"
  },
  "language_info": {
   "codemirror_mode": {
    "name": "ipython",
    "version": 3
   },
   "file_extension": ".py",
   "mimetype": "text/x-python",
   "name": "python",
   "nbconvert_exporter": "python",
   "pygments_lexer": "ipython3",
   "version": "3.11.5"
  },
  "toc-showmarkdowntxt": true
 },
 "nbformat": 4,
 "nbformat_minor": 5
}
