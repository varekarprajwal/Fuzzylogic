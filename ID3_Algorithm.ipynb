{
  "nbformat": 4,
  "nbformat_minor": 0,
  "metadata": {
    "colab": {
      "provenance": [],
      "include_colab_link": true
    },
    "kernelspec": {
      "name": "python3",
      "display_name": "Python 3"
    },
    "language_info": {
      "name": "python"
    }
  },
  "cells": [
    {
      "cell_type": "markdown",
      "metadata": {
        "id": "view-in-github",
        "colab_type": "text"
      },
      "source": [
        "<a href=\"https://colab.research.google.com/github/varekarprajwal/Fuzzylogic/blob/DecisionTree/ID3_Algorithm.ipynb\" target=\"_parent\"><img src=\"https://colab.research.google.com/assets/colab-badge.svg\" alt=\"Open In Colab\"/></a>"
      ]
    },
    {
      "cell_type": "code",
      "metadata": {
        "id": "U1CnoXhw-rAq"
      },
      "source": [
        "import pandas as pd\n",
        "import numpy as np\n",
        "import math"
      ],
      "execution_count": 1,
      "outputs": []
    },
    {
      "cell_type": "code",
      "metadata": {
        "id": "H5kC2DHS-6r1"
      },
      "source": [
        "# Load dataset\n",
        "data = pd.read_csv(\"3-dataset.csv\")\n",
        "# Extract features and target\n",
        "target = \"answer\"\n",
        "features = [col for col in data.columns if col != target]"
      ],
      "execution_count": 2,
      "outputs": []
    },
    {
      "cell_type": "code",
      "metadata": {
        "id": "I6s39nM--9zt"
      },
      "source": [
        "# Node class for Decision Tree\n",
        "class Node:\n",
        "    def __init__(self, value=None, is_leaf=False, prediction=None):\n",
        "        self.value = value\n",
        "        self.is_leaf = is_leaf\n",
        "        self.prediction = prediction\n",
        "        self.children = {}\n",
        "\n",
        "# Calculate entropy\n",
        "def entropy(examples):\n",
        "    counts = examples[target].value_counts()\n",
        "    total = len(examples)\n",
        "    entropy_value = 0.0\n",
        "    for count in counts:\n",
        "        p = count / total\n",
        "        entropy_value -= p * math.log(p, 2)\n",
        "    return entropy_value\n",
        "\n",
        "# Information Gain\n",
        "def info_gain(examples, attr):\n",
        "    total_entropy = entropy(examples)\n",
        "    values = examples[attr].unique()\n",
        "    weighted_entropy = 0.0\n",
        "\n",
        "    for val in values:\n",
        "        subset = examples[examples[attr] == val]\n",
        "        weighted_entropy += (len(subset) / len(examples)) * entropy(subset)\n",
        "\n",
        "    return total_entropy - weighted_entropy"
      ],
      "execution_count": 3,
      "outputs": []
    },
    {
      "cell_type": "code",
      "metadata": {
        "id": "fHrQQknO_MAc"
      },
      "source": [
        "# ID3 Algorithm\n",
        "def ID3(examples, attrs):\n",
        "    # If all examples have the same target value\n",
        "    if len(examples[target].unique()) == 1:\n",
        "        return Node(is_leaf=True, prediction=examples[target].iloc[0])\n",
        "\n",
        "    # If no attributes left\n",
        "    if not attrs:\n",
        "        majority_class = examples[target].mode()[0]\n",
        "        return Node(is_leaf=True, prediction=majority_class)\n",
        "\n",
        "    # Find attribute with max information gain\n",
        "    gains = {attr: info_gain(examples, attr) for attr in attrs}\n",
        "    best_attr = max(gains, key=gains.get)\n",
        "\n",
        "    root = Node(value=best_attr)\n",
        "\n",
        "    for val in examples[best_attr].unique():\n",
        "        subset = examples[examples[best_attr] == val]\n",
        "        if subset.empty:\n",
        "            majority_class = examples[target].mode()[0]\n",
        "            root.children[val] = Node(is_leaf=True, prediction=majority_class)\n",
        "        else:\n",
        "            new_attrs = [a for a in attrs if a != best_attr]\n",
        "            root.children[val] = ID3(subset, new_attrs)\n",
        "\n",
        "    return root"
      ],
      "execution_count": 4,
      "outputs": []
    },
    {
      "cell_type": "code",
      "metadata": {
        "id": "LFiixjB7_PjV"
      },
      "source": [
        "# Print Tree\n",
        "def print_tree(node, depth=0):\n",
        "    indent = \"\\t\" * depth\n",
        "    if node.is_leaf:\n",
        "        print(f\"{indent}Predict -> {node.prediction}\")\n",
        "    else:\n",
        "        print(f\"{indent}[{node.value}]\")\n",
        "        for val, child in node.children.items():\n",
        "            print(f\"{indent}  ({val})\")\n",
        "            print_tree(child, depth + 2)\n"
      ],
      "execution_count": 5,
      "outputs": []
    },
    {
      "cell_type": "code",
      "source": [
        "# Predict for a single instance\n",
        "def predict(node, instance):\n",
        "    if node.is_leaf:\n",
        "        return node.prediction\n",
        "    value = instance[node.value]\n",
        "    if value in node.children:\n",
        "        return predict(node.children[value], instance)\n",
        "    else:\n",
        "        return None  # or majority class as fallback"
      ],
      "metadata": {
        "id": "EPOOb8V9FzPt"
      },
      "execution_count": 6,
      "outputs": []
    },
    {
      "cell_type": "code",
      "source": [
        "# Build tree\n",
        "root = ID3(data, features)\n",
        "\n",
        "# Print tree\n",
        "print_tree(root)\n",
        "\n",
        "# Example prediction\n",
        "test_instance = data.iloc[0]\n",
        "print(\"Prediction:\", predict(root, test_instance))"
      ],
      "metadata": {
        "colab": {
          "base_uri": "https://localhost:8080/"
        },
        "id": "-cx4t54CF1zu",
        "outputId": "dbd88f1d-1101-4533-b95b-299b6aa860e2"
      },
      "execution_count": 7,
      "outputs": [
        {
          "output_type": "stream",
          "name": "stdout",
          "text": [
            "[outlook]\n",
            "  (sunny)\n",
            "\t\t[humidity]\n",
            "\t\t  (high)\n",
            "\t\t\t\tPredict -> no\n",
            "\t\t  (normal)\n",
            "\t\t\t\tPredict -> yes\n",
            "  (overcast)\n",
            "\t\tPredict -> yes\n",
            "  (rain)\n",
            "\t\t[wind]\n",
            "\t\t  (weak)\n",
            "\t\t\t\tPredict -> yes\n",
            "\t\t  (strong)\n",
            "\t\t\t\tPredict -> no\n",
            "Prediction: no\n"
          ]
        }
      ]
    },
    {
      "cell_type": "code",
      "source": [],
      "metadata": {
        "id": "V-99HUpmF7t0"
      },
      "execution_count": 7,
      "outputs": []
    }
  ]
}